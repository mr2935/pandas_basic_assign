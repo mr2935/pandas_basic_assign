{
 "cells": [
  {
   "cell_type": "code",
   "execution_count": 1,
   "id": "d3c36d44-aa74-4a2d-997d-ef329de59f0c",
   "metadata": {},
   "outputs": [
    {
     "name": "stdout",
     "output_type": "stream",
     "text": [
      "Requirement already satisfied: pandas in /opt/conda/lib/python3.10/site-packages (1.5.2)\n",
      "Requirement already satisfied: python-dateutil>=2.8.1 in /opt/conda/lib/python3.10/site-packages (from pandas) (2.8.2)\n",
      "Requirement already satisfied: pytz>=2020.1 in /opt/conda/lib/python3.10/site-packages (from pandas) (2022.6)\n",
      "Requirement already satisfied: numpy>=1.21.0 in /opt/conda/lib/python3.10/site-packages (from pandas) (1.23.5)\n",
      "Requirement already satisfied: six>=1.5 in /opt/conda/lib/python3.10/site-packages (from python-dateutil>=2.8.1->pandas) (1.16.0)\n"
     ]
    }
   ],
   "source": [
    "!pip install pandas"
   ]
  },
  {
   "cell_type": "code",
   "execution_count": 2,
   "id": "f24bff27-8ed5-46ff-90b1-367cc78497df",
   "metadata": {},
   "outputs": [],
   "source": [
    "import pandas as pd"
   ]
  },
  {
   "cell_type": "code",
   "execution_count": 4,
   "id": "d970078a-08bc-41e1-bd79-c5b48660316e",
   "metadata": {},
   "outputs": [
    {
     "data": {
      "text/plain": [
       "0     4\n",
       "1     8\n",
       "2    15\n",
       "3    16\n",
       "4    23\n",
       "5    42\n",
       "dtype: int64"
      ]
     },
     "execution_count": 4,
     "metadata": {},
     "output_type": "execute_result"
    }
   ],
   "source": [
    "#QUESTION 1\n",
    "data=[4,8,15,16,23,42]\n",
    "df=pd.Series(data)\n",
    "df"
   ]
  },
  {
   "cell_type": "code",
   "execution_count": 5,
   "id": "0c8a50d2-5d47-4446-80fc-b8933a18df64",
   "metadata": {},
   "outputs": [
    {
     "data": {
      "text/plain": [
       "0     1\n",
       "1     2\n",
       "2     4\n",
       "3     5\n",
       "4     7\n",
       "5     2\n",
       "6     0\n",
       "7    34\n",
       "8    12\n",
       "9    10\n",
       "dtype: int64"
      ]
     },
     "execution_count": 5,
     "metadata": {},
     "output_type": "execute_result"
    }
   ],
   "source": [
    "#QUESTION 2\n",
    "\n",
    "data1=[1,2,4,5,7,2,0,34,12,10]\n",
    "df1=pd.Series(data1)\n",
    "df1"
   ]
  },
  {
   "cell_type": "code",
   "execution_count": 6,
   "id": "60ff2efe-e75d-4e19-8868-1ddc97f854e6",
   "metadata": {},
   "outputs": [
    {
     "name": "stdout",
     "output_type": "stream",
     "text": [
      "     Name  Age  Gender\n",
      "0   Alice   25  Female\n",
      "1     Bob   30    Male\n",
      "2  Claire   27  Female\n"
     ]
    }
   ],
   "source": [
    "#QUESTION 3\n",
    "\n",
    "data={'Name':['Alice',\"Bob\",'Claire'],\n",
    "      'Age':[25, 30, 27],\n",
    "      'Gender': ['Female', 'Male', 'Female'],\n",
    "}\n",
    "df = pd.DataFrame(data)\n",
    "\n",
    "# Print the DataFrame\n",
    "print(df)"
   ]
  },
  {
   "cell_type": "markdown",
   "id": "88471e4a-7655-4f64-9ba4-f9eb11c8bf3e",
   "metadata": {},
   "source": [
    "#QUESTION 4\n",
    "\n",
    "In Pandas, a DataFrame is a two-dimensional tabular data structure that represents data in a rows-and-columns format, similar to a spreadsheet or SQL table. It is the most commonly used data structure in Pandas and can hold heterogeneous data types. Each column in a DataFrame is a Pandas Series, and all the Series in a DataFrame share the same index, which allows for easy and efficient data manipulation.\n",
    "\n",
    "On the other hand, a Pandas Series is a one-dimensional labeled array that can hold data of any type (e.g., integers, strings, floats). It is similar to a NumPy array but has additional functionalities and is designed to work seamlessly with Pandas."
   ]
  },
  {
   "cell_type": "code",
   "execution_count": 9,
   "id": "3dad90b0-31ae-41d4-8990-172b6eb325fb",
   "metadata": {},
   "outputs": [
    {
     "data": {
      "text/plain": [
       "0    10\n",
       "1    20\n",
       "2    30\n",
       "3    40\n",
       "4    50\n",
       "dtype: int64"
      ]
     },
     "execution_count": 9,
     "metadata": {},
     "output_type": "execute_result"
    }
   ],
   "source": [
    "#Example\n",
    "\n",
    "import pandas as pd\n",
    "\n",
    "# Creating a Pandas Series\n",
    "data = [10, 20, 30, 40, 50]\n",
    "my_series = pd.Series(data)\n",
    "my_series"
   ]
  },
  {
   "cell_type": "markdown",
   "id": "79ef1011-f7d1-4a41-8cac-e4172577425b",
   "metadata": {},
   "source": [
    "#QUESTION 5\n",
    "\n",
    "Pandas provides a wide range of functions to manipulate data in a DataFrame efficiently. Here are some common functions you can use:\n",
    "\n",
    "1. **Filtering and Selection**: You can use functions like `loc`, `iloc`, and boolean indexing to filter and select specific rows or columns from a DataFrame based on certain conditions.\n",
    "\n",
    "Example - Using `loc` to select rows based on a condition:\n",
    "\n",
    "```python\n",
    "import pandas as pd\n",
    "\n",
    "# Create a DataFrame\n",
    "data = {\n",
    "    'Name': ['Alice', 'Bob', 'Claire'],\n",
    "    'Age': [25, 30, 27],\n",
    "    'Gender': ['Female', 'Male', 'Female']\n",
    "}\n",
    "df = pd.DataFrame(data)\n",
    "\n",
    "# Select rows where Age is greater than 25\n",
    "filtered_df = df.loc[df['Age'] > 25]\n",
    "\n",
    "print(filtered_df)\n",
    "```\n",
    "\n",
    "2. **Aggregation**: Functions like `mean`, `sum`, `count`, etc., can be used to calculate summary statistics over rows or columns.\n",
    "\n",
    "Example - Using `mean` to calculate the average age:\n",
    "\n",
    "```python\n",
    "average_age = df['Age'].mean()\n",
    "print(average_age)\n",
    "```\n",
    "\n",
    "3. **Sorting**: You can sort the DataFrame based on specific columns using `sort_values`.\n",
    "\n",
    "Example - Sorting the DataFrame based on Age in descending order:\n",
    "\n",
    "```python\n",
    "sorted_df = df.sort_values(by='Age', ascending=False)\n",
    "print(sorted_df)\n",
    "```\n",
    "\n",
    "4. **Grouping and Aggregating**: Functions like `groupby` and `agg` allow you to group data based on certain columns and perform aggregations on the grouped data.\n",
    "\n",
    "Example - Grouping by Gender and calculating the average age for each group:\n",
    "\n",
    "```python\n",
    "grouped_df = df.groupby('Gender').agg({'Age': 'mean'})\n",
    "print(grouped_df)\n",
    "```\n",
    "\n",
    "5. **Merging and Joining**: Functions like `merge` and `join` allow you to combine multiple DataFrames based on common columns.\n",
    "\n",
    "Example - Merging two DataFrames based on a common column \"ID\":\n",
    "\n",
    "```python\n",
    "df1 = pd.DataFrame({'ID': [1, 2, 3], 'Value': [10, 20, 30]})\n",
    "df2 = pd.DataFrame({'ID': [3, 4, 5], 'Value': [40, 50, 60]})\n",
    "\n",
    "merged_df = pd.merge(df1, df2, on='ID', how='outer')\n",
    "print(merged_df)\n",
    "```\n",
    "\n",
    "6. **Dropping and Adding Columns**: You can use `drop` to remove unwanted columns and `assign` to add new columns.\n",
    "\n",
    "Example - Dropping the \"Gender\" column:\n",
    "\n",
    "```python\n",
    "df_dropped = df.drop(columns='Gender')\n",
    "print(df_dropped)\n",
    "```\n",
    "\n",
    "7. **Handling Missing Data**: Functions like `isnull`, `dropna`, and `fillna` help with dealing with missing values.\n",
    "\n",
    "Example - Filling missing values with the mean of the column:\n",
    "\n",
    "```python\n",
    "df_filled = df.fillna(df.mean())\n",
    "print(df_filled)\n",
    "```\n",
    "\n",
    "These are just a few examples of the many functions available in Pandas for data manipulation. Pandas is a powerful library with a wide range of functionalities to handle and process data effectively in DataFrames."
   ]
  },
  {
   "cell_type": "markdown",
   "id": "3576fc29-224f-447d-93f8-80480c372a3b",
   "metadata": {},
   "source": [
    "#QUESTION 6\n",
    "\n",
    "In Pandas, both Series and DataFrame are mutable in nature, while Panel is not.\n",
    "\n",
    "Series: A Pandas Series is a one-dimensional labeled array that can hold data of any type. Once created, you can modify the values, index, and other properties of a Series."
   ]
  },
  {
   "cell_type": "code",
   "execution_count": 11,
   "id": "61ad212b-5d19-4b1d-a61f-a77c697cb28f",
   "metadata": {},
   "outputs": [
    {
     "name": "stdout",
     "output_type": "stream",
     "text": [
      "0    10\n",
      "1    20\n",
      "2    35\n",
      "3    40\n",
      "4    50\n",
      "dtype: int64\n"
     ]
    }
   ],
   "source": [
    "import pandas as pd\n",
    "\n",
    "# Create a Series\n",
    "data = [10, 20, 30, 40, 50]\n",
    "my_series = pd.Series(data)\n",
    "\n",
    "# Modify the values in the Series\n",
    "my_series[2] = 35\n",
    "print(my_series)\n"
   ]
  },
  {
   "cell_type": "markdown",
   "id": "c3d514b2-245b-4a91-bb29-89ee2451400b",
   "metadata": {},
   "source": [
    "DataFrame: A Pandas DataFrame is a two-dimensional tabular data structure with rows and columns. Like Series, DataFrames are mutable, and you can modify its values, add or remove columns, and perform various data manipulation operations."
   ]
  },
  {
   "cell_type": "code",
   "execution_count": 12,
   "id": "f25efac1-a92a-4075-b389-bcb4a64b3304",
   "metadata": {},
   "outputs": [
    {
     "name": "stdout",
     "output_type": "stream",
     "text": [
      "     Name  Age  Gender\n",
      "0   Alice   25  Female\n",
      "1     Bob   32    Male\n",
      "2  Claire   27  Female\n"
     ]
    }
   ],
   "source": [
    "import pandas as pd\n",
    "\n",
    "# Create a DataFrame\n",
    "data = {\n",
    "    'Name': ['Alice', 'Bob', 'Claire'],\n",
    "    'Age': [25, 30, 27],\n",
    "    'Gender': ['Female', 'Male', 'Female']\n",
    "}\n",
    "df = pd.DataFrame(data)\n",
    "\n",
    "# Modify a value in the DataFrame\n",
    "df.at[1, 'Age'] = 32\n",
    "print(df)\n"
   ]
  },
  {
   "cell_type": "code",
   "execution_count": null,
   "id": "8d73a798-9037-4d70-85b5-a7c3cff2d6fb",
   "metadata": {},
   "outputs": [],
   "source": []
  }
 ],
 "metadata": {
  "kernelspec": {
   "display_name": "Python 3 (ipykernel)",
   "language": "python",
   "name": "python3"
  },
  "language_info": {
   "codemirror_mode": {
    "name": "ipython",
    "version": 3
   },
   "file_extension": ".py",
   "mimetype": "text/x-python",
   "name": "python",
   "nbconvert_exporter": "python",
   "pygments_lexer": "ipython3",
   "version": "3.10.8"
  }
 },
 "nbformat": 4,
 "nbformat_minor": 5
}
